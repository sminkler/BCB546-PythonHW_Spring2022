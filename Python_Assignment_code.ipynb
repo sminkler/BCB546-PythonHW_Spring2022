{
 "cells": [
  {
   "cell_type": "markdown",
   "id": "a44b60bb",
   "metadata": {},
   "source": [
    "## Python Assignment \n",
    "BCB546 Spring 2022"
   ]
  },
  {
   "cell_type": "markdown",
   "id": "adb69b0b",
   "metadata": {},
   "source": [
    "Sarah Minkler"
   ]
  },
  {
   "cell_type": "markdown",
   "id": "ea0ecf0f",
   "metadata": {},
   "source": [
    "Git hub repository: https://github.com/sminkler/BCB546-PythonHW_Spring2022.git"
   ]
  },
  {
   "cell_type": "markdown",
   "id": "91c580b2",
   "metadata": {},
   "source": [
    "First, I downloaded the files from the class github repository using https://download-directory.github.io/. They are now present on my new repository."
   ]
  },
  {
   "cell_type": "code",
   "execution_count": 1,
   "id": "7ebc0170",
   "metadata": {},
   "outputs": [
    {
     "name": "stdout",
     "output_type": "stream",
     "text": [
      "Requirement already satisfied: gitpython in c:\\users\\sarah\\anaconda3\\lib\\site-packages (3.1.27)\n",
      "Requirement already satisfied: gitdb<5,>=4.0.1 in c:\\users\\sarah\\anaconda3\\lib\\site-packages (from gitpython) (4.0.9)\n",
      "Requirement already satisfied: smmap<6,>=3.0.1 in c:\\users\\sarah\\anaconda3\\lib\\site-packages (from gitdb<5,>=4.0.1->gitpython) (5.0.0)\n",
      "Note: you may need to restart the kernel to use updated packages.\n"
     ]
    }
   ],
   "source": [
    "pip install gitpython"
   ]
  },
  {
   "cell_type": "code",
   "execution_count": null,
   "id": "21c9c607",
   "metadata": {},
   "outputs": [],
   "source": [
    "from git.repo.base import Repo\n",
    "Repo.clone_from(\"https://github.com/sminkler/BCB546-PythonHW_Spring2022.git\", \"BCB546\")"
   ]
  },
  {
   "cell_type": "markdown",
   "id": "c8177c18",
   "metadata": {},
   "source": [
    "Cloning my new repository"
   ]
  },
  {
   "cell_type": "code",
   "execution_count": 2,
   "id": "cda23cde",
   "metadata": {},
   "outputs": [
    {
     "name": "stdout",
     "output_type": "stream",
     "text": [
      "C:\\Users\\Sarah\\Python Assignment\\BCB546\n"
     ]
    }
   ],
   "source": [
    "cd BCB546"
   ]
  },
  {
   "cell_type": "code",
   "execution_count": 3,
   "id": "f7d86c09",
   "metadata": {},
   "outputs": [
    {
     "name": "stdout",
     "output_type": "stream",
     "text": [
      " Volume in drive C is Windows\n",
      " Volume Serial Number is 00AC-9128\n",
      "\n",
      " Directory of C:\\Users\\Sarah\\Python Assignment\\BCB546\n",
      "\n",
      "04/27/2022  01:28 PM    <DIR>          .\n",
      "05/02/2022  04:36 PM    <DIR>          ..\n",
      "04/27/2022  01:28 PM            14,955 penguins_cytb[1].fasta\n",
      "04/27/2022  01:28 PM               318 penguins_mass[1].csv\n",
      "04/27/2022  01:28 PM                58 README.md\n",
      "04/27/2022  01:28 PM             3,330 README[1].md\n",
      "04/27/2022  01:28 PM             6,810 sequence_translate[1].py\n",
      "               5 File(s)         25,471 bytes\n",
      "               2 Dir(s)  175,529,271,296 bytes free\n"
     ]
    }
   ],
   "source": [
    "ls"
   ]
  },
  {
   "cell_type": "markdown",
   "id": "ef2d816d",
   "metadata": {},
   "source": [
    "Making sure I am in the right place, and my files are also here."
   ]
  },
  {
   "cell_type": "code",
   "execution_count": 4,
   "id": "dd8802fd",
   "metadata": {},
   "outputs": [
    {
     "name": "stdout",
     "output_type": "stream",
     "text": [
      "Collecting package metadata (current_repodata.json): ...working... done\n",
      "Solving environment: ...working... done\n",
      "\n",
      "# All requested packages already installed.\n",
      "\n",
      "\n",
      "Note: you may need to restart the kernel to use updated packages.\n"
     ]
    }
   ],
   "source": [
    "conda install biopython"
   ]
  },
  {
   "cell_type": "markdown",
   "id": "8e1410c8",
   "metadata": {},
   "source": [
    "## FUNCTIONS "
   ]
  },
  {
   "cell_type": "code",
   "execution_count": 5,
   "id": "c6792e23",
   "metadata": {},
   "outputs": [],
   "source": [
    "from Bio import SeqIO\n",
    "from Bio.Seq import Seq\n",
    "from Bio.SeqRecord import SeqRecord\n",
    "from Bio.Data import CodonTable\n",
    "import pandas as pd"
   ]
  },
  {
   "cell_type": "markdown",
   "id": "9d83d84b",
   "metadata": {},
   "source": [
    "# Function 1 \n",
    "Dr. X: this gets sequences. Please properly document this function in the Jupyter notebook \n",
    "Your descriptions of all functions should contain information about what the function does, as well as information about the return types and arguments."
   ]
  },
  {
   "cell_type": "code",
   "execution_count": 6,
   "id": "dce6fbba",
   "metadata": {},
   "outputs": [],
   "source": [
    "def get_sequences_from_file(fasta_fn): ## trying to obtain fasta sequences from the fasta file \n",
    "    sequence_data_dict = {} ## putting sequences in a dictionary\n",
    "    for record in SeqIO.parse(fasta_fn, \"fasta\"):\n",
    "        description = record.description.split()\n",
    "        species_name = description[1] + \" \" + description[2]\n",
    "        sequence_data_dict[species_name] = record.seq\n",
    "    return(sequence_data_dict)"
   ]
  },
  {
   "cell_type": "code",
   "execution_count": 7,
   "id": "610cd015",
   "metadata": {},
   "outputs": [
    {
     "data": {
      "text/plain": [
       "dict"
      ]
     },
     "execution_count": 7,
     "metadata": {},
     "output_type": "execute_result"
    }
   ],
   "source": [
    "cytochromeB_seq= get_sequences_from_file(\"penguins_cytb[1].fasta\") ## assigning to a dictionary\n",
    "type(cytochromeB_seq) ## making sure it's a dictionary"
   ]
  },
  {
   "cell_type": "code",
   "execution_count": 8,
   "id": "8bc76f23",
   "metadata": {},
   "outputs": [
    {
     "name": "stdout",
     "output_type": "stream",
     "text": [
      "Aptenodytes forsteri : ATGGCCCCAAATCTCCGAAAATCCCATCCCCTCCTAAAAATAATTAATAACTCCCTAATCGACCTGCCCACCCCATCAAACATCTCTGCCTGATGAAACTTCGGATCTCTCCTAGGCATCTGCCTAACTACACAAATTTTAACCGGCCTCCTACTAGCTATACACTACACTGCAGACACAACCCTAGCCTTCTCCTCAGTCGCCCACACATGCCGAAACGTACAGTACGGCTGACTGATCCGCAACCTACATGCAAACGGAGCATCATTCTTCTTCATCTGCATCTATCTCCACATTGGCCGTGGATTTTACTATGGCTCCTATCTATACAAAGAAACCTGAAACACAGGCATTATCCTCCTACTCACCCTCATGGCAACCGCCTTCGTAGGCTACGTCCTACCATGAGGACAAATATCTTTCTGAGGAGCCACAGTCATTACCAACTTATTCTCAGCCATCCCTTACATTGGCCAAACCCTCGTAGAATGGACCTGAGGTGGCTTTTCAGTAGACAACCCCACATTAACCCGATTTTTCGCACTACACTTCCTCCTTCCCTTCATAATCGCAGGCCTCACCCTCATCCACCTCACCTTCCTCCACGAATCAGGCTCAAATAACCCACTGGGCATCGTAGCTAACTCCGATAAAATCCCATTCCACCCCTACTACTCCACAAAAGACATCCTAGGATTCGCACTCATACTTCTCCCACTAACAACCCTTGCCCTATTCTCCCCCAACCTACTAGGAGACCCAGAAAACTTCACCCCAGCAAACCCACTAGTCACACCCCCACACATCAAACCAGAATGATACTTCCTATTTGCATACGCTATCCTACGCTCAATCCCCAACAAACTAGGAGGAGTCCTTGCCCTAGCAGCATCCGTGCTAATCCTATTCCTAATCCCTCTCCTCCACAAATCCAAGCAACGCACAATAGCTTTCCGCCCTCTCTCCCAACTCCTATTCTGAGCCCTAGTAGCCAATCTCATTATCCTAACATGAGTAGGTAGCCAACCAGTAGAACACCCCTTCATCATCATCGGCCAACTAGCCTCCCTCACTTACTTCACCACCCTCCTGATCCTCTTCCCCATTGCTGGGGCCCTAGAAAACAAAATACTCAACCATTAA\n",
      "Aptenodytes patagonicus : ATGGCCCCAAACCTCCGAAAATCCCATCCTCTCCTAAAAATAATTAATAACTCCCTAATCGACCTGCCCACCCCATCAAACATCTCTGCCTGATGAAACTTCGGATCTCTCCTAGGCATCTGCCTAACTACACAAATCTTAACCGGCCTCCTACTAGCTATACACTACACTGCAGACACAACCCTGGCCTTCTCCTCAGTCGCCCACACATGCCGAAATGTACAGTACGGCTGACTAATCCGCAACCTACATGCAAACGGAGCATCATTCTTTTTCATCTGCATCTACCTCCACATCGGCCGTGGATTTTACTACGGCTCCTACCTATACAAAGAAACCTGAAACACGGGCATCATTCTCCTACTCACACTCATAGCAACCGCCTTCGTAGGCTACGTCCTGCCATGGGGACAAATATCATTCTGAGGGGCCACAGTCATTACCAACTTATTCTCAGCCATCCCCTACATCGGCCAAACCCTCGTAGAATGAGCCTGAGGTGGCTTTTCAGTAGACAACCCCACATTAACCCGATTTTTCGCACTACACTTCCTCCTCCCCTTCATAATCGCAGGCCTCACCCTCATCCATCTCACCTTCCTCCACGAATCAGGCTCAAACAACCCACTGGGCATCGTAGCTAACTCCGATAAGATCCCATTCCATCCCTACTACTCCACAAAAGACACCCTAGGATTCGCACTCATACTTCTCCCACTAACAACCCTCGCCCTATTCTCCCCCAACTTACTGGGGGACCCAGAAAACTTTACCCCAGCAAACCCACTAGTCACACCCCCACACATCAAACCAGAATGATACTTCCTATTTGCATACGCTATCCTACGCTCAATCCCCAACAAACTGGGGGGAGTCCTAGCCCTAGCAGCCTCAGTACTGATCCTATTCCTAATCCCCCTCCTCCACAAGTCCAAACAGCGTACAATAACCTTCCGTCCCCTCTCCCAGCTCCTATTCTGAACCTTAGTAGCCAACCTCACCATCCTAACATGGATCGGCAGCCAACCAGTAGAACACCCCTTCATCATCATCGGCCAACTAGCTTCCCTCACCTACTTCACCATCCTCCTAATCCTCTTCCCCCTCATCGGGACTCTAGAAAACAAGATACTTAACCACTAA\n",
      "Eudyptes chrysocome : ATGGCCCCCAACCTCCGAAAATCCCACCCCCTCCTAAAAACAATCAATAACTCCCTAATCGACCTACCCACCCCATCAAACATCTCTGCCTGATGAAACTTCGGATCTCTCCTGGGCATCTGCCTAGCTACACAAATCCTAACCGGCCTCTTACTAGCTGCCCACTACACCGCAGACACCACCTTAGCCTTCTCCTCCGTCGCCCATACATGCCGAAATGTACAATACGGCTGATTAATCCGCAATCTACACGCAAACGGGGCCTCATTCTTCTTCATCTGCATCTACCTCCACATCGGTCGCGGACTCTACTACGGCTCCTACCTGTACAAAGAAACCTGAAACACAGGCATTATCCTCCTACTCACCCTCATAGCAACCGCCTTCGTAGGCTATGTCCTACCATGAGGTCAGATATCCTTCTGAGGGGCCACAGTCATCACCAACCTATTCTCAGCCATCCCCTACATCGGCCAAACCCTCGTAGAGTGGGCCTGAGGCGGCTTCTCAGTAGACAACCCCACACTAACCCGATTCTTCACACTACACTTCCTTCTCCCCTTCATAATCGCAGGCCTCACCTTAATCCACCTCACCTTCCTCCACGAATCAGGCTCAAACAACCCCCTAGGCATCGTAGCCAACTCCGACAAAATCCCATTCCACCCCTACTACTCTACAAAAGATATCCTAGGATTTATCCTCCTACTCCTTCCACTAACAACCCTTGCCCTATTCTCACCCAACTTGCTAGGAGACCCAGAAAACTTCACCCCAGCAAACCCCCTAGTCACACCCCCACATATCAAACCAGAGTGGTACTTCCTATTTGCATACGCTATCCTACGCTCAATCCCCAACAAACTGGGAGGAGTCCTAGCCCTAGCAGCATCAGTACTAATCCTGTTCCTAATCCCCCTCCTCCACAAATCCAAGCAGCGCACAATAACCTTCCGCCCCCTCTCCCAACTTCTATTCTGAACCCTAGTGGCCAACCTCACCATCCTAACATGAATCGGCAGCCAACCAGTAGAGCACCCCTTCATCATCATCGGCCAACTAGCCTCCCTTACCTACTTCACCATCCTCCTAATCCTCTTCCCCCTCATCGGGACCCTAGAAAACAAGATACTCAACCACTAA\n",
      "Eudyptes chrysolophus : ATGGCCCCCAACCTCCGAAAATCCCACCCCCTCCTAAAAACAATCAATAACTCCCTAATCGACCTACCCACTCCATCAAACATCTCCGCCTGATGAAACTTCGGATCTCTTCTGGGCATCTGCCTGGCCACACAAATCCTAACCGGCCTCTTACTGGCTGCCCACTACACCGCAGACACCACTCTAGCTTTCTCCTCCGTCGCCCATACATGCCGAAACGTACAATATGGCTGATTAATCCGCAATCTACACGCAAATGGAGCCTCATTCTTCTTCATCTGCATCTACCTTCACATCGGCCGCGGACTCTACTACGGCTCCTACCTGTACAAAGAAACCTGAAATACAGGCATTATCCTCCTGCTCACCCTCATAGCAACCGCCTTCGTAGGCTATGTCCTACCATGGGGCCAAATATCCTTCTGAGGGGCCACAGTCATCACCAACCTATTCTCAGCCATCCCCTATATCGGCCAAACCCTCGTAGAATGGGCCTGAGGCGGCTTCTCAGTAGACAACCCCACACTAACCCGATTCTTCACACTACACTTCCTTCTCCCCTTCATAATCGCAGGCCTCACCCTAATCCACCTCACCTTCCTCCACGAGTCAGGCTCAAACAACCCACTAGGCATCGTAGCCAACTCCGACAAAATCCCATTCCACCCCTACTACTCCACAAAAGATATCCTAGGATTTATCCTCCTACTCCTTCCACTAACAGCCCTTGCCCTATTCTCACCCAACTTGCTAGGAGACCCAGAAAACTTCACCCCAGCAAACCCCCTAGTCACACCCCCACATATCAAACCAGAATGATACTTCCTATTTGCATACGCTATCCTACGCTCAATCCCCAACAAACTGGGGGGAGTCCTAGCCCTAGCAGCCTCAGTACTGATCCTATTCCTAATCCCCCTCCTCCACAAGTCCAAACAGCGTACAATAACCTTCCGTCCCCTCTCCCAGCTCCTATTCTGAACCTTAGTAGCCAACCTCACCATCCTAACATGGATCGGCAGCCAACCAGTAGAACACCCCTTCATCATCATCGGCCAACTAGCTTCCCTCACCTACTTCACCATCCTCCTAATCCTCTTCCCCCTCATCGGGACTCTAGAAAACAAGATACTTAACCACTAA\n",
      "Eudyptes sclateri : ATGGCCCCCAACCTCCGAAAATCCCACCCCCTCCTAAAAACAATCAATAACTCCCTAATCGACCTACCCACCCCATCAAACATCTCTGCCTGATGAAACTTCGGATCTCTCCTGGGCATCTGCCTAGCCACACAAATCCTAACCGGCCTCTTACTGGCCGCCCACTACACCGCAGACACCACCCTAGCCTTCTCCTCCGTCGCCCATACATGCCGAAACGTACAATACGGCTGATTAATCCGCAATCTACACGCAAACGGGGCCTCATTCTTCTTCATCTGCATCTACCTCCACATCGGTCGCGGCCTCTACTACGGCTCCTACCTGTACAAAGAAACCTGAAATACAGGCATTATCCTCCTGCTCACCCTCATAGCAACCGCCTTCGTAGGCTATGTCCTACCATGGGGCCAAATATCCTTCTGAGGAGCCACAGTCATCACCAACCTATTCTCAGCCATCCCCTACATCGGCCAAACCCTCGTAGAATGGGCCTGAGGTGGCTTCTCAGTAGACAATCCCACACTAACCCGATTCTTCACACTACACTTCCTTCTCCCCTTCATAATCGCAGGCCTCACCCTAATCCACCTCACCTTTCTCCACGAATCAGGCTCAAACAACCCACTAGGCATCGTAGCCAACTCCGACAAAATCCCATTCCACCCCTACTACTCCACAAAAGACATCCTAGGATTTATCCTCCTACTCCTTCCACTAACAACCCTCGCCTTATTCTCACCCAACTTGCTAGGGGACCCAGAAAACTTCACCCCAGCAAACCCCCTAGTCACACCCCCACATATCAAACCAGAATGATACTTCCTATTTGCATACGCTATCCTACGCTCAATCCCCAACAAGCTAGGAGGAGTCCTAGCCCTAGCAGCATCAGTACTAATCCTATTCCTAATCCCCCTCCTCCACAAATCCAAGCAACGTACAATAACCTTCCGTCCCCTCTCCCAACTTCTATTCTGAACCTTAGTGGCCAACCTCACCATCCTAACATGAATCGGTAGCCAACCAGTAGAACACCCCTTCATCATCATCGGCCAACTAGCCTCCCTCACCTACTTCACCATCCTCCTAATCCTCTTCCCCCTCATCGGGACCCTAGAAAACAAGATACTTAACCACTAA\n",
      "Eudyptula minor : ATGGCCCCCAACCTCCGAAAATCTCACCCCCTCCTAAAAATAATCAACAACTCTCTAATTGACCTGCCCACCCCATCAAACATTTCTACCTGATGAAACTTCGGATCACTCCTAGGCATTTGCCTGATCACACAAATCCTAACTGGCCTTCTACTAGCCGCCCATTATACTGCAGACACAACCCTAGCCTTCTCCTCCATCGCCCACACATGCCGGAACGTACAGTATGGCTGACTAATCCGCAACCTACACGCAAACGGAGCCTCATTCTTCTTTATCTGCATCTACCTCCACATCGGCCGCGGACTCTACTACGGCTCCTACCTATACAAAGAAACCTGAAACACAGGCATTATCCTCCTAATCACCCTCATAGCAACCGCCTTCGTAGGCTACGTCCTGCCATGAGGCCAAATATCCTTCTGAGGAGCCACAGTCATCACCAACCTATTCTCGGCCATCCCCTACATTGGCCAAACTCTTGTAGAATGAGCCTGAGGCGGCTTCTCAGTAGACAACCCTACACTAACCCGATTCTTCGCACTACACTTCCTCCTCCCATTCATAATTACAGGCCTCACCCTAATTCACCTCACCTTCCTCCACGAATCTGGCTCAAACAACCCACTAGGCATCGTAGCTAACTCCGACAAAATCCCATTCCACCCCTACTACTCCACGAAAGACATCCTAGGGTTCATTCTCTTACTCCTTCCACTTACCACCCTCGCCCTATTCTCACCCAACCTTCTAGGAGACCCAGAAAACTTTACCCCAGCAAACCCTCTAGTCACACCCCCACACATCAAACCAGAATGATACTTCCTATTTGCCTACGCTATTCTACGATCAATTCCCAATAAACTAGGAGGAGTCCTAGCCCTAGCAGCATCCGTACTAATCCTATTCCTAATTCCCCTTCTCCACAAATCCAAACAACGCTCAATAGCCTTCCGTCCCCTCTCCCAACTCCTATTCTGAACCCTAGTAGCCAACCTTACCATCCTAACATGAGTGGGCAACCAACCAGTAGAACACCCCTTCATCATCATCGGCCAACTAGCCTCCCTCACCTATTTCACCATTCTCCTAATCCTCTTCCCCCTCGCCGGGACCCTAGAAAACAAAATACTCAGCCACTAA\n",
      "Pygoscelis adeliae : ATGGCCCCCAACCTCCGAAAATCCCACCCTCTCCTAAAAATAATTAACAACTCCCTAATTGACCTACCCACCCCATCAAACATCTCTGCCTGATGAAACTTCGGATCCCTCCTAGGCATTTGCCTGACTACACAAATCCTGACCGGCCTCCTACTAGCCATGCACTACACTGCAGACACAACTCTAGCCTTCTCTTCCATCGCCCACACATGCCGAGATGTACAATATGGCTGACTAATCCGCAACCTCCATGCAAACGGAGCCTCATTCTTCTTCATCTGCATCTACCTCCATATTGGCCGCGGACTCTACTACGGCTCATACCTATACAAAGAAACTTGAAACACAGGCATCATCCTCCTACTTACCCTCATAGCAACTGCTTTTGTAGGCTATGTTTTACCATGAGGACAAATGTCCTTCTGAGGAGCCACTGTCATCACCAACCTATTCTCGGCTATCCCATATATTGGTCAAACCCTCGTAGAATGGGCCTGAGGCGGCTTCTCAGTGGACAACCCCACACTAACCCGATTCTTCGCACTACACTTCCTCCTCCCCTTCGTAATCATAGGCCTCACCCTCATCCACCTTACCTTCCTCCACGAATCAGGCTCAAACAACCCACTAGGCATCGTAGCCAACTCCGACAAAATTCCATTCCACCCCTACTACTCCACAAAAGATATCTTAGGGTTCGCATTCATACTCCTTCCATTAACAACCCTCGCCCTATTTTCACCCAACCTACTAGGTGACCCAGAAAACTTCACCCCAGCAAACCCACTAGTCACACCCCCACATATCAAACCAGAATGATACTTCCTATTCGCATATGCTATCCTACGCTCGATCCCCAACAAACTGGGAGGTGTCCTAGCCTTAGCAGCATCCGTACTAATCCTATTCCTAATCCCCCTCCTCCACAAGTCTAAACAGCGCACAATAGCCTTCCGTCCCCTCTCCCAACTCCTATTCTGAGCCCTAGTAGCCAACCTTGCCATCCTAACATGGGTAGGTAGCCAACCAGTAGAACACCCCTTCATTATCATCGGCCAATTAGCTTCCCTCACCTACTTCACCATCCTCCTGATCCTCTTCCCCTCCATCGGGGCCCTAGAAAACAAAATACTCAACCACTAA\n",
      "Pygoscelis antarctica : ATGGCCCCCAACCTCCGAAAATCCCACCCTCTCCTAAAAATAATCAACAACTCCCTAATTGACCTACCCACCCCATCAAACATCTCTGCCTGATGAAACTTCGGATCCCTCTTAGGCATTTGCCTAACTACACAGATCCTGACCGGCCTCCTACTAGCCATACACTACACTGCAGACACAACCCTAGCCTTCTCCTCCATCGCCCATACATGCCGAGACGTACAATACGGCTGACTAATCCGAAACATACATGCAAACGGAGCATCATTGTTGTTCATCTGCATTTACTTACATATCGGACGAGGAGTGTATGACGGCTCCTACCTCCACAAAGAAACCTGAAACACAGGAGTCATCCTCCTACTAACCCTCATAGCAACTGCTTTCGTAGGCTATGTACTACCATGAGGACAAATATCCTTCTGAGGGGCCACTGTTATCACCAACTTATTCTCAGCCATCCCCTACATTGGTCAAACCATCGTAGAGTGAGCCTGAGGCGGCTTCTCAGTAGACAACCCCACATTAACCCGATTCTTCGCACTACACTTTCTTCTCCCCTTCATAATCACAGGCCTTACTCTCATCCACCTTACCTTCCTCCACGAATCAGGTTCAAACAACCCACTAGGTATTGTAGCCAACTCCGACAAAATCCCGTTCCACCCCTACTACTCCACAAAAGACATCCTGGGGTTCACACTCATACTCCTCCCACTAACAACCCTCGCCTTATTTTCACCCAACCTGCTGGGGGACCCAGAAAACTTTACTCCAGCAAACCCACTAGTCACACCTCCCCACATCAAACCAGAATGATATTTCCTATTCGCCTACGCCATCCTACGCTCAATTCCCAATAAACTAGGAGGAGTACTAGCCCTAGCCGCCTCCGTATTAGTTCTATTCTTAAGCCCCCTTCTCCACAAATCCAAACAACGCACAATAGCCTTCCGCCCACTCTCTCAACTCCTATTCTGAACCTTAGTCGCCAATCTACTCATCCTGACATGAATCGGCAGCCAACCAGTAGAACACCCATTCATCATCATTGGTCAACTAGCCTCCACCACCTACTTTATCATCCTCCTAATCCTCTTCCCCATTACCAGTGCCCTAGAAAACAAAATACTAAACTTCTAG\n",
      "Pygoscelis papua : ATGGCCCCCAACCTTCGAAAATCCCACCCTCTCCTAAAAATAATCAACAAATCCCTAATTGACCTACCCACCCCACCAAACATCTCTGCCTGATGAAACTTCGGATCTCTCCTAGGCATTTGCCTAATCACACAGATCCTAACTGGCCTCCTACTAGCCATACACTACACCGCAGACACAACCTTAGCCTTCTCCTCCATCGCCCACACATGCCGAAACGTACAATACGGCTGACTAATCCGCAACCTCCATGCAAACGGAGCCTCATTCTTCTTTATCTGCATCTACTTCCACATCGGCCGCGGGCTCTACTATGGCTCATACCTATACAAAGAAACCTGAAACACAGGCATCATCCTCCTACTTACCCTTATAGCAACTGCTTTCGTAGGCTATGTTCTACCATGAGGACAAATATCCTTCTGAGGGGCCACTGTTATCACCAACTTATTCTCAGCCATCCCTTACGTCGGCCAAACCCTCGTAGAATGAGCCTGAGGTGGTTTCTCAGTAGACAACCCCACATTAACCCGATTCTTTGCACTACACTTTCTTCTTCCCTTCATAATCACAGGCCTCACTCTCATCCACCTTACCTTCCTCCACGAATCAGGTTCAAACAACCCACTGGGCATTGTAGCCAACTCTGACAAAATCCCATTTCACCCATACTACTCCACAAAAGACATCCTAGGGTTCGCACTCATACTCCTTCCACTAACAACCCTCGCCTTATTTTCACCCAACTTACTAGGGGACCCAGAAAACTTTACCCCAGCAAACCCACTAGTCACACCCCCTCACATCAAACCAGAGTGATATTTCCTATTTGCATACGCCATCCTACGCTCAATTCCCAATAAACTAGGAGGAGTACTAGCCCTAGCCGCCTCCGTATTAATTCTATTCTTAAGCCCCCTTCTCCACAAATCCAAACAACGCACAATAGCCTTCCGCCCACTCTCTCAACTCCTATTCTGAACCTTAGTCGCCAATCTACTCATCCTGACATGAATCGGCAGCCAACCAGTAGAACACCCATTCATCATCATTGGTCAACTAGCCTCCACCACCTACTTTATCATCCTCCTAATCCTCTTCCCCATTACCAGTGCCCTAGAAAACAAAATACTAAACTTCTAG\n",
      "Spheniscus demersus : ATGGCCCCCAACCTCCGAAAATCCCACCCTCTCCTAAAAACAATCAACAACTCCCTAATCGACCTACCCACCCCATCAAACATTTCCGCCTGATGAAACTTTGGATCTCTCCTAGGCATCTGCTTAGCTACACAAATCCTAACTGGCCTCCTACTAGCTGCCCACTATACTGCAGACACAACCCTAGCCTTCTCATCTGTCGCCCACATATGCCGAAACGTACAATACGGCTGACTAATCCGCAACTTACACGCAAACGGAGCCTCATTCTTCTTTATCTGTATCTACCTGCATATCGGCCGCGGACTCTACTACGGCTCCTACCTATACAAAGAAACCTGAAACACAGGCATCATCCTCCTACTTACCCTCATAGCAACCGCCTTCGTAGGCTACGTCCTACCATGAGGCCAGATATCCTTTTGAGGAGCTACAGTCATTACTAACCTATTCTCAGCTATCCCTTACATTGGCCAAACTCTCGTAGAATGAGCTTGAGGCGGCTTCTCAGTAGACAACCCCACCCTAACCCGATTCTTCGCACTACACTTCCTTCTCCCCTTCATAATCACAGGCCTCACCCTCATCCACCTCACCTTCCTCCACGAATCAGGCTCAAACAATCCACTAGGTATCGTAGCCAACTCCGACAAAATCCCATTCCACCCCTACTACTCCACAAAAGATATTCTAGGATTTATACTCCTACTCCTTCCACTAACAACCTTAGCCCTATTCTCACCCAACCTATTAGGAGACCCAGAAAACTTCACCCCAGCAAACCCCCTAGTCACACCCCCACACATTAAACCAGAATGATACTTCCTATTTGCCTACGCCATCCTACGCTCAATCCCCAACAAACTAGGAGGAGTACTAGCCCTAGCAGCATCCGTACTAATCCTATTCCTAATACCCCTCCTCCACAAATCTAAACAGCGCACAATAGCCTTCCGTCCACTCTCCCAACTCCTGTTCTGAACCCTAGTAGCCAACCTCATTATCCTAACGTGAATTGGCAGCCAACCAGTAGAACATCCCTTCATTGCCATCGGCCAATTAGCCTCCTTCACCTACTTCACCACCCTCCTAATTCTCTTTCCCCTTGCCGGAGCCCTAGAAAACAAAATACTCAATCACTAA\n",
      "Spheniscus humboldti : ATGGCCCCCAACCTCCGAAAATCCCACCCTCTCCTAAAAACAATCAACAACTCCCTAATCGACCTGCCCACCCCATCAAACATTTCCGCCTGATGAAACTTTGGATCTCTCCTAAGCATCTGCCTAGCCACACAAATCCTAACTGGCCTCCTACTAGCCGCCCACTATACTGCAGACACAACCCTAGCCTTCTCATCCGTCGCCCACATATGCCGAAACGTACAATACGGCTGACTAATCCGCAACTTACACGCAAACGGAGCCTCATTCTTCTTTATCTGTATCTACCTACATATCGGCCGCGGACTCTACTACGGCTCCTACCTACACAAAGAAACCTGAAACACAGGCATCATCCTCCTACTTACCCTCATAGCAACCGCCTTCGTAGGCTACGTCCTACCATGAGGCCAGATATCCTTCTGAGGAGCCACAGTCATTACTAACCTATTCTCAGCTATCCCTTACATCGGTCAAACTCTCGTAGAATGAGCCTGAGGCGGCTTCTCAGTAGACAACCCCACCCTGACCCGATTCTTCGCACTACACTTCCTTCTCCCCTTCATAATCACAGGCCTCGCCCTCATCCACCTCACCTTCCTCCACGAATCAGGCTCAAACAATCCACTAGGTATCGTAGCCAACTCCGACAAAATCCCATTCCACCCCTACTACTCCACAAAAGATATTCTAGGATTTATACTCCTACTCCTTCCACTAACAACCCTAGCCCTATTCTCACCCAACCTATTAGGAGACCCAGAAAACTTCACCCCAGCAAACCCCCTAGTCACACCCCCACACATTAAACCAGAATGATACTTCCTATTTGCCTACGCTATCCTACGCTCAATCCCCAACAAACTAGGGGGAGTCCTAGCCCTAGCAGCATCCGTACTAATCCTATTCCTAATACCCCTCCTCCACAAATCTAAACAGCGCACAATAGCCTTCCGTCCACTCTCCCAACTCCTATTCTGAACCCTAGTAGCCAACCTCATTATCCTAACGTGAGTCGGCAGCCAACCAGTAGAACATCCCTTCATTATCATCGGCCAATTAGCCTCCCTCACCTACTTCACCACCCTCCTAATTCTCTTTCCCCTTGCCGGAGCCCTAGAAAACAAAATACTCAATCACTAA\n",
      "Spheniscus magellanicus : ATGGCCCCCAACCTCCGAAAATCCCACCCTCTCCTAAAAACAATCAACAACTCCCTAATCGACCTGCCCACCCCATCAAACATTTCCGCCTGATGAAACTTTGGATCTCTCCTAGGCATCTGCTTAGCCACACAAATCCTAACTGGCCTCCTACTAGCTGCCCACTATACTGCAGACACAACCCTAGCCTTCTCATCCGTCGCCCACATATGCCGAAACGTACAATACGGCTGACTAATCCGCAACTTACATGCAAACGGAGCCTCATTCTTCTTTATCTGTATCTACCTGCATATCGGCCGCGGACTCTACTACGGCTCCTACCTATACAAAGAAACCTGAAACACAGGCATCATCCTCCTACTTACCCTCATAGCAACCGCCTTCGTAGGCTACGTCCTACCATGAGGCCAGATATCCTTTTGAGGAGCCACAGTCATTACTAACCTATTCTCAGCTATCCCTTACATTGGCCAAACTCTCGTAGAATGAGCTTGAGGCGGCTTCTCAGTAGACAACCCCACTCTAACTCGATTCTTCGCACTACACTTCCTTCTCCCCTTCATAATCACAGGCCTCACCCTCATCCACCTCACCTTCCTCCACGAATCAGGCTCAAACAATCCACTAGGTATCGTAGCCAACTCCGACAAAATCCCATTCCACCCCTACTACTCCACAAAAGATATTCTAGGATTTATACTCCTACTCCTTCCACTAACAACCTTAGCCCTATTCTCACCCAACCTATTAGGAGACCCAGAAAACTTCACCCCAGCAAACCCCCTAGTCACACCCCCACACATTAAACCAGAATGATACTTCCTATTTGCCTACGCCATCCTACGCTCAATCCCCAACAAACTAGGAGGAGTCCTAGCCCTAGCAGCATCCGTACTAATCCTATTCCTAATACCCCTCCTCCACAAATCTAAACAGCGCACAATAGCCTTCCGTCCACTCTCCCAACTCCTATTCTGAACCCTAGTAGCCAACCTCATTATCCTAACGTGAGTTGGCAGCCAACCAGTAGAACATCCCTTCATTATCATCGGTCAATTAGCCTCCTTCACCTACTTCACCACCCTCCTAATTCTCTTTCCCCTTGCCGGAGCCCTAGAAAACAAAATACTCAATCACTAA\n"
     ]
    }
   ],
   "source": [
    "for key, value in cytochromeB_seq.items(): \n",
    "    print (key, \":\", value)"
   ]
  },
  {
   "cell_type": "markdown",
   "id": "e8dc2804",
   "metadata": {},
   "source": [
    "To complete this function I used https://biopython.org/wiki/SeqIO to understand more about SeqI0 parsing and also used the class tuitorial to create a dictionary in python."
   ]
  },
  {
   "cell_type": "markdown",
   "id": "8e39929d",
   "metadata": {},
   "source": [
    "## Function 2\n",
    "Write a function that translates sequences.Allsequences start at codon position 1. \n",
    "Complete a function that translates using a loop over the string of nucleotides. \n",
    "Here is  some pseudo-code and suggestions. \n",
    "feel free to change the function and variable names. \n"
   ]
  },
  {
   "cell_type": "code",
   "execution_count": 9,
   "id": "47b64465",
   "metadata": {},
   "outputs": [
    {
     "data": {
      "text/plain": [
       "'LTGMFMPRT'"
      ]
     },
     "execution_count": 9,
     "metadata": {},
     "output_type": "execute_result"
    }
   ],
   "source": [
    "def translate_function(string_nucleotides): \n",
    "    mito_table = CodonTable.unambiguous_dna_by_name[\"Vertebrate Mitochondrial\"] #bringing in codon table\n",
    "    aa_seq_string = \"\"\n",
    "    for i in range(0, len(string_nucleotides)-3, 3): #counting every 3 nucleotides\n",
    "        \n",
    "        codon = string_nucleotides[i:i+3]\n",
    "        aa = mito_table.forward_table[codon]\n",
    "        aa_seq_string += aa #putting amino acids and codons together\n",
    "    return  aa_seq_string #give string of amino acids at the end\n",
    "\n",
    "translate_function(\"CTGACAGGTATATTCATACCTCGGACTGTT\") #checking to see if it works with random sequence "
   ]
  },
  {
   "cell_type": "code",
   "execution_count": 10,
   "id": "b8869496",
   "metadata": {},
   "outputs": [
    {
     "data": {
      "text/plain": [
       "'LSSEDPYR'"
      ]
     },
     "execution_count": 10,
     "metadata": {},
     "output_type": "execute_result"
    }
   ],
   "source": [
    "translate_function(\"CTTTCGTCCGAAGATCCTTACCGGGGT\") #double checking with another random sequence"
   ]
  },
  {
   "cell_type": "markdown",
   "id": "3a3c6c5c",
   "metadata": {},
   "source": [
    "To learn more about the codon table I used this link from biopython https://biopython.org/docs/1.75/api/Bio.Data.CodonTable.html. I used this link from StackOverflow as well https://stackoverflow.com/questions/49073217/how-to-use-biopython-to-translate-a-series-of-dna-sequences-in-a-fasta-file-and."
   ]
  },
  {
   "cell_type": "markdown",
   "id": "95664e05",
   "metadata": {},
   "source": [
    "## Function 3\n",
    "Is there a better way to write the translation function? (Hint: yes there is.). Perhaps using available BioPython library utilities? Please also write this function."
   ]
  },
  {
   "cell_type": "code",
   "execution_count": 11,
   "id": "5da84d42",
   "metadata": {},
   "outputs": [],
   "source": [
    "def alt_translate(string_nucleotides):\n",
    "    alt_aa_string = \"\"\n",
    "    alt_aa_string =Seq.translate(string_nucleotides, table=2, to_stop=True) ##translates into amino acids and stops stop codon\n",
    "    return alt_aa_string ##returns a string containing the translated amino acid sequence "
   ]
  },
  {
   "cell_type": "markdown",
   "id": "b0e99499",
   "metadata": {},
   "source": [
    "For the alternate function, I used the biopython tutorital to find another way to translate the sequence\n",
    "http://biopython.org/DIST/docs/tutorial/Tutorial.html in the Seq.translation section."
   ]
  },
  {
   "cell_type": "markdown",
   "id": "36426d81",
   "metadata": {},
   "source": [
    "## Function 4\n",
    "Write a function that calculates the molecular weight of each amino acid sequence.\n",
    "For this, you can use some BioPython functions. I think you can use the ProtParam module.\n",
    "For more info, check this out: http://biopython.org/wiki/ProtParam\n",
    "So you should import the following before defining your function:\n",
    "from Bio.SeqUtils.ProtParam import ProteinAnalysis"
   ]
  },
  {
   "cell_type": "code",
   "execution_count": 12,
   "id": "a568c6c8",
   "metadata": {},
   "outputs": [],
   "source": [
    "from Bio.SeqUtils.ProtParam import ProteinAnalysis\n",
    "from Bio.Seq import Seq\n",
    "from Bio import SeqIO ##importing necessary packages"
   ]
  },
  {
   "cell_type": "code",
   "execution_count": 21,
   "id": "26078a9c",
   "metadata": {},
   "outputs": [],
   "source": [
    "def calc_molecular_weight(aa_seq): \n",
    "    analyzed_seq = ProteinAnalysis(aa_seq)\n",
    "    return analyzed_seq.molecular_weight() ##returns the molecular weight"
   ]
  },
  {
   "cell_type": "markdown",
   "id": "571cb362",
   "metadata": {},
   "source": [
    "For function 4, I used this link http://biopython.org/wiki/ProtParam as mentioned above. "
   ]
  },
  {
   "cell_type": "markdown",
   "id": "ffb86139",
   "metadata": {},
   "source": [
    "## Function 5\n",
    "Write a function that calculates the GC-content (proportion of \"G\" and \"C\") of each DNA sequence and returns this value."
   ]
  },
  {
   "cell_type": "code",
   "execution_count": 14,
   "id": "37949295",
   "metadata": {},
   "outputs": [],
   "source": [
    "from Bio.Seq import Seq\n",
    "from Bio import SeqIO\n",
    "from Bio.SeqUtils import GC"
   ]
  },
  {
   "cell_type": "code",
   "execution_count": 67,
   "id": "c4713b92",
   "metadata": {},
   "outputs": [],
   "source": [
    "def calc_GC_content(DNA_seq): ##inputing sequence\n",
    "    return GC(DNA_seq) ##returns the GC content"
   ]
  },
  {
   "cell_type": "markdown",
   "id": "cbe71b24",
   "metadata": {},
   "source": [
    "I used this link from the biopython website to help with this function. https://biopython.org/docs/1.75/api/Bio.SeqUtils.html"
   ]
  },
  {
   "cell_type": "markdown",
   "id": "60a10ed3",
   "metadata": {},
   "source": [
    "## Main "
   ]
  },
  {
   "cell_type": "code",
   "execution_count": 16,
   "id": "475fc009",
   "metadata": {},
   "outputs": [],
   "source": [
    "cytb_seqs = get_sequences_from_file(\"penguins_cytb[1].fasta\") \n",
    "penguins_df = pd.read_csv(\"penguins_mass[1].csv\") # Includes only data for body mass \n",
    "species_list = list(penguins_df.species) "
   ]
  },
  {
   "cell_type": "markdown",
   "id": "761a104b",
   "metadata": {},
   "source": [
    "Above code coming from Dr. X's jupyter notebook"
   ]
  },
  {
   "cell_type": "markdown",
   "id": "cec534ed",
   "metadata": {},
   "source": [
    "## Main 6\n",
    "Add two new columns to the penguin DataFrame: (1) molecular weight and (2) GC content.\n",
    "Set the value to 'NaN' to indicate that these cells are currently empty."
   ]
  },
  {
   "cell_type": "code",
   "execution_count": 17,
   "id": "8e1e9a80",
   "metadata": {},
   "outputs": [],
   "source": [
    "import numpy as np\n",
    "import pandas as pd"
   ]
  },
  {
   "cell_type": "code",
   "execution_count": 19,
   "id": "8b6ee36b",
   "metadata": {},
   "outputs": [
    {
     "data": {
      "text/html": [
       "<div>\n",
       "<style scoped>\n",
       "    .dataframe tbody tr th:only-of-type {\n",
       "        vertical-align: middle;\n",
       "    }\n",
       "\n",
       "    .dataframe tbody tr th {\n",
       "        vertical-align: top;\n",
       "    }\n",
       "\n",
       "    .dataframe thead th {\n",
       "        text-align: right;\n",
       "    }\n",
       "</style>\n",
       "<table border=\"1\" class=\"dataframe\">\n",
       "  <thead>\n",
       "    <tr style=\"text-align: right;\">\n",
       "      <th></th>\n",
       "      <th>species</th>\n",
       "      <th>mass</th>\n",
       "      <th>Molecular Weight</th>\n",
       "      <th>GC Content</th>\n",
       "    </tr>\n",
       "  </thead>\n",
       "  <tbody>\n",
       "    <tr>\n",
       "      <th>0</th>\n",
       "      <td>Aptenodytes forsteri</td>\n",
       "      <td>28.00</td>\n",
       "      <td>NaN</td>\n",
       "      <td>NaN</td>\n",
       "    </tr>\n",
       "    <tr>\n",
       "      <th>1</th>\n",
       "      <td>Aptenodytes patagonicus</td>\n",
       "      <td>13.40</td>\n",
       "      <td>NaN</td>\n",
       "      <td>NaN</td>\n",
       "    </tr>\n",
       "    <tr>\n",
       "      <th>2</th>\n",
       "      <td>Eudyptes chrysocome</td>\n",
       "      <td>2.80</td>\n",
       "      <td>NaN</td>\n",
       "      <td>NaN</td>\n",
       "    </tr>\n",
       "    <tr>\n",
       "      <th>3</th>\n",
       "      <td>Eudyptes chrysolophus</td>\n",
       "      <td>4.50</td>\n",
       "      <td>NaN</td>\n",
       "      <td>NaN</td>\n",
       "    </tr>\n",
       "    <tr>\n",
       "      <th>4</th>\n",
       "      <td>Eudyptes sclateri</td>\n",
       "      <td>4.25</td>\n",
       "      <td>NaN</td>\n",
       "      <td>NaN</td>\n",
       "    </tr>\n",
       "    <tr>\n",
       "      <th>5</th>\n",
       "      <td>Eudyptula minor</td>\n",
       "      <td>1.60</td>\n",
       "      <td>NaN</td>\n",
       "      <td>NaN</td>\n",
       "    </tr>\n",
       "    <tr>\n",
       "      <th>6</th>\n",
       "      <td>Pygoscelis adeliae</td>\n",
       "      <td>4.60</td>\n",
       "      <td>NaN</td>\n",
       "      <td>NaN</td>\n",
       "    </tr>\n",
       "    <tr>\n",
       "      <th>7</th>\n",
       "      <td>Pygoscelis antarctica</td>\n",
       "      <td>4.10</td>\n",
       "      <td>NaN</td>\n",
       "      <td>NaN</td>\n",
       "    </tr>\n",
       "    <tr>\n",
       "      <th>8</th>\n",
       "      <td>Pygoscelis papua</td>\n",
       "      <td>6.10</td>\n",
       "      <td>NaN</td>\n",
       "      <td>NaN</td>\n",
       "    </tr>\n",
       "    <tr>\n",
       "      <th>9</th>\n",
       "      <td>Spheniscus demersus</td>\n",
       "      <td>3.20</td>\n",
       "      <td>NaN</td>\n",
       "      <td>NaN</td>\n",
       "    </tr>\n",
       "    <tr>\n",
       "      <th>10</th>\n",
       "      <td>Spheniscus humboldti</td>\n",
       "      <td>4.75</td>\n",
       "      <td>NaN</td>\n",
       "      <td>NaN</td>\n",
       "    </tr>\n",
       "    <tr>\n",
       "      <th>11</th>\n",
       "      <td>Spheniscus magellanicus</td>\n",
       "      <td>3.40</td>\n",
       "      <td>NaN</td>\n",
       "      <td>NaN</td>\n",
       "    </tr>\n",
       "  </tbody>\n",
       "</table>\n",
       "</div>"
      ],
      "text/plain": [
       "                    species   mass Molecular Weight GC Content\n",
       "0      Aptenodytes forsteri  28.00              NaN        NaN\n",
       "1   Aptenodytes patagonicus  13.40              NaN        NaN\n",
       "2       Eudyptes chrysocome   2.80              NaN        NaN\n",
       "3     Eudyptes chrysolophus   4.50              NaN        NaN\n",
       "4         Eudyptes sclateri   4.25              NaN        NaN\n",
       "5           Eudyptula minor   1.60              NaN        NaN\n",
       "6        Pygoscelis adeliae   4.60              NaN        NaN\n",
       "7     Pygoscelis antarctica   4.10              NaN        NaN\n",
       "8          Pygoscelis papua   6.10              NaN        NaN\n",
       "9       Spheniscus demersus   3.20              NaN        NaN\n",
       "10     Spheniscus humboldti   4.75              NaN        NaN\n",
       "11  Spheniscus magellanicus   3.40              NaN        NaN"
      ]
     },
     "execution_count": 19,
     "metadata": {},
     "output_type": "execute_result"
    }
   ],
   "source": [
    "for index, row in penguins_df.iterrows():  ##creating for loops for each new row\n",
    "    penguins_df.loc[index,'Molecular Weight'] = \"NaN\"  ##setting the values to be NaN\n",
    "for index, row in penguins_df.iterrows():\n",
    "    penguins_df.loc[index,'GC Content'] = \"NaN\"\n",
    "penguins_df ##checking to make sure this is correct"
   ]
  },
  {
   "cell_type": "markdown",
   "id": "1496d45f",
   "metadata": {},
   "source": [
    "To add these columns into the dataframe I used the class tutiorials "
   ]
  },
  {
   "cell_type": "markdown",
   "id": "87b595a7",
   "metadata": {},
   "source": [
    "## Main 7"
   ]
  },
  {
   "cell_type": "markdown",
   "id": "7069801e",
   "metadata": {},
   "source": [
    "Write a for-loop that translates each sequence and also gets molecular weight and computes the GC content of each translated sequence and adds those data to DataFrame."
   ]
  },
  {
   "cell_type": "code",
   "execution_count": 23,
   "id": "3f68130c",
   "metadata": {},
   "outputs": [
    {
     "data": {
      "text/html": [
       "<div>\n",
       "<style scoped>\n",
       "    .dataframe tbody tr th:only-of-type {\n",
       "        vertical-align: middle;\n",
       "    }\n",
       "\n",
       "    .dataframe tbody tr th {\n",
       "        vertical-align: top;\n",
       "    }\n",
       "\n",
       "    .dataframe thead th {\n",
       "        text-align: right;\n",
       "    }\n",
       "</style>\n",
       "<table border=\"1\" class=\"dataframe\">\n",
       "  <thead>\n",
       "    <tr style=\"text-align: right;\">\n",
       "      <th></th>\n",
       "      <th>species</th>\n",
       "      <th>mass</th>\n",
       "      <th>Molecular Weight</th>\n",
       "      <th>GC Content</th>\n",
       "    </tr>\n",
       "  </thead>\n",
       "  <tbody>\n",
       "    <tr>\n",
       "      <th>0</th>\n",
       "      <td>Aptenodytes forsteri</td>\n",
       "      <td>28.00</td>\n",
       "      <td>42459.6021</td>\n",
       "      <td>48.381452</td>\n",
       "    </tr>\n",
       "    <tr>\n",
       "      <th>1</th>\n",
       "      <td>Aptenodytes patagonicus</td>\n",
       "      <td>13.40</td>\n",
       "      <td>42563.7067</td>\n",
       "      <td>49.693788</td>\n",
       "    </tr>\n",
       "    <tr>\n",
       "      <th>2</th>\n",
       "      <td>Eudyptes chrysocome</td>\n",
       "      <td>2.80</td>\n",
       "      <td>42475.5753</td>\n",
       "      <td>51.181102</td>\n",
       "    </tr>\n",
       "    <tr>\n",
       "      <th>3</th>\n",
       "      <td>Eudyptes chrysolophus</td>\n",
       "      <td>4.50</td>\n",
       "      <td>42445.5493</td>\n",
       "      <td>50.918635</td>\n",
       "    </tr>\n",
       "    <tr>\n",
       "      <th>4</th>\n",
       "      <td>Eudyptes sclateri</td>\n",
       "      <td>4.25</td>\n",
       "      <td>42475.5753</td>\n",
       "      <td>50.831146</td>\n",
       "    </tr>\n",
       "    <tr>\n",
       "      <th>5</th>\n",
       "      <td>Eudyptula minor</td>\n",
       "      <td>1.60</td>\n",
       "      <td>42491.6408</td>\n",
       "      <td>49.256343</td>\n",
       "    </tr>\n",
       "    <tr>\n",
       "      <th>6</th>\n",
       "      <td>Pygoscelis adeliae</td>\n",
       "      <td>4.60</td>\n",
       "      <td>42458.614</td>\n",
       "      <td>49.081365</td>\n",
       "    </tr>\n",
       "    <tr>\n",
       "      <th>7</th>\n",
       "      <td>Pygoscelis antarctica</td>\n",
       "      <td>4.10</td>\n",
       "      <td>42404.5423</td>\n",
       "      <td>47.769029</td>\n",
       "    </tr>\n",
       "    <tr>\n",
       "      <th>8</th>\n",
       "      <td>Pygoscelis papua</td>\n",
       "      <td>6.10</td>\n",
       "      <td>42595.8759</td>\n",
       "      <td>47.156605</td>\n",
       "    </tr>\n",
       "    <tr>\n",
       "      <th>9</th>\n",
       "      <td>Spheniscus demersus</td>\n",
       "      <td>3.20</td>\n",
       "      <td>42431.549</td>\n",
       "      <td>48.293963</td>\n",
       "    </tr>\n",
       "    <tr>\n",
       "      <th>10</th>\n",
       "      <td>Spheniscus humboldti</td>\n",
       "      <td>4.75</td>\n",
       "      <td>42399.552</td>\n",
       "      <td>49.256343</td>\n",
       "    </tr>\n",
       "    <tr>\n",
       "      <th>11</th>\n",
       "      <td>Spheniscus magellanicus</td>\n",
       "      <td>3.40</td>\n",
       "      <td>42459.6021</td>\n",
       "      <td>48.206474</td>\n",
       "    </tr>\n",
       "  </tbody>\n",
       "</table>\n",
       "</div>"
      ],
      "text/plain": [
       "                    species   mass Molecular Weight GC Content\n",
       "0      Aptenodytes forsteri  28.00       42459.6021  48.381452\n",
       "1   Aptenodytes patagonicus  13.40       42563.7067  49.693788\n",
       "2       Eudyptes chrysocome   2.80       42475.5753  51.181102\n",
       "3     Eudyptes chrysolophus   4.50       42445.5493  50.918635\n",
       "4         Eudyptes sclateri   4.25       42475.5753  50.831146\n",
       "5           Eudyptula minor   1.60       42491.6408  49.256343\n",
       "6        Pygoscelis adeliae   4.60        42458.614  49.081365\n",
       "7     Pygoscelis antarctica   4.10       42404.5423  47.769029\n",
       "8          Pygoscelis papua   6.10       42595.8759  47.156605\n",
       "9       Spheniscus demersus   3.20        42431.549  48.293963\n",
       "10     Spheniscus humboldti   4.75        42399.552  49.256343\n",
       "11  Spheniscus magellanicus   3.40       42459.6021  48.206474"
      ]
     },
     "execution_count": 23,
     "metadata": {},
     "output_type": "execute_result"
    }
   ],
   "source": [
    "row = 0\n",
    "for i in penguins_df.species:  ##drawing from the penguins df\n",
    "    aa_seq = alt_translate(str(cytb_seqs[i])) ##using my alternative translation function for this for loop\n",
    "    mole_weight = calc_molecular_weight(str(aa_seq)) ##calculating the molecular weight\n",
    "    GC_cont = calc_GC_content(str(cytb_seqs[i])) ##calculating the GC content\n",
    "    penguins_df.iloc[row, penguins_df.columns.get_loc(\"Molecular Weight\")] = mole_weight ##making new columns for both characteristics\n",
    "    penguins_df.iloc[row, penguins_df.columns.get_loc(\"GC Content\")] = GC_cont\n",
    "    row += 1\n",
    "penguins_df"
   ]
  },
  {
   "cell_type": "markdown",
   "id": "0aee919f",
   "metadata": {},
   "source": [
    "For this part of the assignment I used https://stackoverflow.com/questions/31569384/set-value-for-particular-cell-in-pandas-dataframe-with-iloc to add the columns to the dataframe with the corresponding values."
   ]
  },
  {
   "cell_type": "code",
   "execution_count": 48,
   "id": "f8fbf040",
   "metadata": {},
   "outputs": [
    {
     "data": {
      "text/html": [
       "<div>\n",
       "<style scoped>\n",
       "    .dataframe tbody tr th:only-of-type {\n",
       "        vertical-align: middle;\n",
       "    }\n",
       "\n",
       "    .dataframe tbody tr th {\n",
       "        vertical-align: top;\n",
       "    }\n",
       "\n",
       "    .dataframe thead th {\n",
       "        text-align: right;\n",
       "    }\n",
       "</style>\n",
       "<table border=\"1\" class=\"dataframe\">\n",
       "  <thead>\n",
       "    <tr style=\"text-align: right;\">\n",
       "      <th></th>\n",
       "      <th>species</th>\n",
       "      <th>mass</th>\n",
       "      <th>Molecular Weight</th>\n",
       "      <th>GC Content</th>\n",
       "    </tr>\n",
       "  </thead>\n",
       "  <tbody>\n",
       "    <tr>\n",
       "      <th>0</th>\n",
       "      <td>Aptenodytes forsteri</td>\n",
       "      <td>28.00</td>\n",
       "      <td>42459.6021</td>\n",
       "      <td>48.381452</td>\n",
       "    </tr>\n",
       "    <tr>\n",
       "      <th>1</th>\n",
       "      <td>Aptenodytes patagonicus</td>\n",
       "      <td>13.40</td>\n",
       "      <td>42563.7067</td>\n",
       "      <td>49.693788</td>\n",
       "    </tr>\n",
       "    <tr>\n",
       "      <th>2</th>\n",
       "      <td>Eudyptes chrysocome</td>\n",
       "      <td>2.80</td>\n",
       "      <td>42475.5753</td>\n",
       "      <td>51.181102</td>\n",
       "    </tr>\n",
       "    <tr>\n",
       "      <th>3</th>\n",
       "      <td>Eudyptes chrysolophus</td>\n",
       "      <td>4.50</td>\n",
       "      <td>42445.5493</td>\n",
       "      <td>50.918635</td>\n",
       "    </tr>\n",
       "    <tr>\n",
       "      <th>4</th>\n",
       "      <td>Eudyptes sclateri</td>\n",
       "      <td>4.25</td>\n",
       "      <td>42475.5753</td>\n",
       "      <td>50.831146</td>\n",
       "    </tr>\n",
       "    <tr>\n",
       "      <th>5</th>\n",
       "      <td>Eudyptula minor</td>\n",
       "      <td>1.60</td>\n",
       "      <td>42491.6408</td>\n",
       "      <td>49.256343</td>\n",
       "    </tr>\n",
       "    <tr>\n",
       "      <th>6</th>\n",
       "      <td>Pygoscelis adeliae</td>\n",
       "      <td>4.60</td>\n",
       "      <td>42458.614</td>\n",
       "      <td>49.081365</td>\n",
       "    </tr>\n",
       "    <tr>\n",
       "      <th>7</th>\n",
       "      <td>Pygoscelis antarctica</td>\n",
       "      <td>4.10</td>\n",
       "      <td>42404.5423</td>\n",
       "      <td>47.769029</td>\n",
       "    </tr>\n",
       "    <tr>\n",
       "      <th>8</th>\n",
       "      <td>Pygoscelis papua</td>\n",
       "      <td>6.10</td>\n",
       "      <td>42595.8759</td>\n",
       "      <td>47.156605</td>\n",
       "    </tr>\n",
       "    <tr>\n",
       "      <th>9</th>\n",
       "      <td>Spheniscus demersus</td>\n",
       "      <td>3.20</td>\n",
       "      <td>42431.549</td>\n",
       "      <td>48.293963</td>\n",
       "    </tr>\n",
       "    <tr>\n",
       "      <th>10</th>\n",
       "      <td>Spheniscus humboldti</td>\n",
       "      <td>4.75</td>\n",
       "      <td>42399.552</td>\n",
       "      <td>49.256343</td>\n",
       "    </tr>\n",
       "    <tr>\n",
       "      <th>11</th>\n",
       "      <td>Spheniscus magellanicus</td>\n",
       "      <td>3.40</td>\n",
       "      <td>42459.6021</td>\n",
       "      <td>48.206474</td>\n",
       "    </tr>\n",
       "  </tbody>\n",
       "</table>\n",
       "</div>"
      ],
      "text/plain": [
       "                    species   mass Molecular Weight GC Content\n",
       "0      Aptenodytes forsteri  28.00       42459.6021  48.381452\n",
       "1   Aptenodytes patagonicus  13.40       42563.7067  49.693788\n",
       "2       Eudyptes chrysocome   2.80       42475.5753  51.181102\n",
       "3     Eudyptes chrysolophus   4.50       42445.5493  50.918635\n",
       "4         Eudyptes sclateri   4.25       42475.5753  50.831146\n",
       "5           Eudyptula minor   1.60       42491.6408  49.256343\n",
       "6        Pygoscelis adeliae   4.60        42458.614  49.081365\n",
       "7     Pygoscelis antarctica   4.10       42404.5423  47.769029\n",
       "8          Pygoscelis papua   6.10       42595.8759  47.156605\n",
       "9       Spheniscus demersus   3.20        42431.549  48.293963\n",
       "10     Spheniscus humboldti   4.75        42399.552  49.256343\n",
       "11  Spheniscus magellanicus   3.40       42459.6021  48.206474"
      ]
     },
     "execution_count": 48,
     "metadata": {},
     "output_type": "execute_result"
    }
   ],
   "source": [
    "penguins_df ## Just wanted to double check that the columns looked correct again. "
   ]
  },
  {
   "cell_type": "markdown",
   "id": "00164c2f",
   "metadata": {},
   "source": [
    "## Main 8 \n",
    "Plot a bar-chart of the mass with the x-axes labeled with species names.\n",
    "*Q1* What is the smallest penguin species? \n",
    "*Q2* What is the geographical range of this species?"
   ]
  },
  {
   "cell_type": "code",
   "execution_count": 28,
   "id": "02b39b45",
   "metadata": {},
   "outputs": [],
   "source": [
    "import matplotlib.pyplot as plt\n",
    "import seaborn as sns\n",
    "%matplotlib inline "
   ]
  },
  {
   "cell_type": "code",
   "execution_count": 68,
   "id": "c7a4246a",
   "metadata": {},
   "outputs": [
    {
     "data": {
      "text/plain": [
       "<seaborn.axisgrid.FacetGrid at 0x2a0c6835760>"
      ]
     },
     "execution_count": 68,
     "metadata": {},
     "output_type": "execute_result"
    },
    {
     "data": {
      "image/png": "[encoded data removed]",
      "text/plain": [
       "<Figure size 1080x360 with 1 Axes>"
      ]
     },
     "metadata": {},
     "output_type": "display_data"
    }
   ],
   "source": [
    "plot_dims = (14, 9)\n",
    "Eight = sns.catplot(x = 'species', y = 'mass', kind=\"bar\", aspect=3, data=penguins_df, palette=\"Blues_d\") ##setting variables\n",
    "ax.set(xlabel='Species ID', ylabel='Mass (kg)') ##setting labels\n",
    "Eight.set_xticklabels(rotation=60)"
   ]
  },
  {
   "cell_type": "markdown",
   "id": "591c8e20",
   "metadata": {},
   "source": [
    "To change the x-axis rotation I used this link; https://stackoverflow.com/questions/10998621/rotate-axis-text-in-python-matplotlib.\n",
    "To change the color pallete, I used this link https://seaborn.pydata.org/generated/seaborn.barplot.html."
   ]
  },
  {
   "cell_type": "markdown",
   "id": "79815305",
   "metadata": {},
   "source": [
    "Q1.Eudyptula minor\n",
    "Q2.Eudyptula minor is found on the southern coast of Australia and the coasts of New Zealand. \n",
    "Citation for question 2: https://animaldiversity.org/accounts/Eudyptula_minor/#geographic_range"
   ]
  },
  {
   "cell_type": "markdown",
   "id": "d319e5a0",
   "metadata": {},
   "source": [
    "## Main 9 \n",
    "Plot a visualization of the molecular weight (y-axis) as a function of GC-content (x-axis)."
   ]
  },
  {
   "cell_type": "code",
   "execution_count": 71,
   "id": "d47cff0a",
   "metadata": {
    "scrolled": true
   },
   "outputs": [
    {
     "name": "stderr",
     "output_type": "stream",
     "text": [
      "C:\\Users\\Sarah\\anaconda3\\lib\\site-packages\\seaborn\\_decorators.py:36: FutureWarning: Pass the following variables as keyword args: x, y. From version 0.12, the only valid positional argument will be `data`, and passing other arguments without an explicit keyword will result in an error or misinterpretation.\n",
      "  warnings.warn(\n"
     ]
    },
    {
     "data": {
      "image/png": "[encoded data removed]",
      "text/plain": [
       "<Figure size 595.725x432 with 1 Axes>"
      ]
     },
     "metadata": {},
     "output_type": "display_data"
    }
   ],
   "source": [
    "weight_GCplot = sns.lmplot(\"GC Content\", \"Molecular Weight\", data=penguins_df, fit_reg=False, \n",
    "                       height=6, hue='species', markers='x', palette=\"PuOr\")"
   ]
  },
  {
   "cell_type": "markdown",
   "id": "6bca437d",
   "metadata": {},
   "source": [
    "To make graphs from 8 and 9, I used the class tuitorials and I changed the color pallette with this link https://python-graph-gallery.com/101-make-a-color-palette-with-seaborn."
   ]
  },
  {
   "cell_type": "markdown",
   "id": "2723fd24",
   "metadata": {},
   "source": [
    "## Main 10 \n",
    "Save the new DataFrame to a file called \"penguins_mass_cytb.csv\""
   ]
  },
  {
   "cell_type": "code",
   "execution_count": 66,
   "id": "b64925c7",
   "metadata": {},
   "outputs": [],
   "source": [
    "penguins_df.to_csv(\"penguins_mass_cytb.csv\", sep=',', encoding='utf-8', index=False)"
   ]
  },
  {
   "cell_type": "markdown",
   "id": "168a027e",
   "metadata": {},
   "source": [
    "I used this link to save dataframe as csv file:https://medium.com/@kasiarachuta/importing-and-exporting-csv-files-in-python-7fa6e4d9f408"
   ]
  },
  {
   "cell_type": "markdown",
   "id": "4163c303",
   "metadata": {},
   "source": [
    "## Main 11 - BONUS\n",
    "What else can we do with this dataset in Python? \n",
    "Add functions or anything that might be interesting and fun. (optional)"
   ]
  },
  {
   "cell_type": "code",
   "execution_count": 53,
   "id": "86527adc",
   "metadata": {},
   "outputs": [],
   "source": [
    "import seaborn as sns\n",
    "sns.set_theme(style=\"whitegrid\")"
   ]
  },
  {
   "cell_type": "code",
   "execution_count": 72,
   "id": "344cc12b",
   "metadata": {},
   "outputs": [
    {
     "data": {
      "text/plain": [
       "<seaborn.axisgrid.FacetGrid at 0x2a0c67deee0>"
      ]
     },
     "execution_count": 72,
     "metadata": {},
     "output_type": "execute_result"
    },
    {
     "data": {
      "image/png": "[encoded data removed]",
      "text/plain": [
       "<Figure size 360x360 with 1 Axes>"
      ]
     },
     "metadata": {},
     "output_type": "display_data"
    }
   ],
   "source": [
    "bonus = sns.catplot(x=\"species\", y=\"Molecular Weight\", data=penguins_df, palette= 'rocket')\n",
    "bonus.set_xticklabels(rotation=60)"
   ]
  },
  {
   "cell_type": "markdown",
   "id": "510dd5fd",
   "metadata": {},
   "source": [
    "This doesn't really tell us anything new, I just wanted to show that all of the molecular weights of the proteins are really similar, with slight differences. Which we would expect them to be since they are all cytochrome B and these are all one animal, just different species."
   ]
  }
 ],
 "metadata": {
  "kernelspec": {
   "display_name": "Python 3 (ipykernel)",
   "language": "python",
   "name": "python3"
  },
  "language_info": {
   "codemirror_mode": {
    "name": "ipython",
    "version": 3
   },
   "file_extension": ".py",
   "mimetype": "text/x-python",
   "name": "python",
   "nbconvert_exporter": "python",
   "pygments_lexer": "ipython3",
   "version": "3.9.7"
  }
 },
 "nbformat": 4,
 "nbformat_minor": 5
}
